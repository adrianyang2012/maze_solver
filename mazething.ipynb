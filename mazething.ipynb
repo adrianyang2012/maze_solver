{
  "nbformat": 4,
  "nbformat_minor": 0,
  "metadata": {
    "colab": {
      "private_outputs": true,
      "provenance": [],
      "authorship_tag": "ABX9TyMov3JXSEkxMQ2+SQeaCuOU",
      "include_colab_link": true
    },
    "kernelspec": {
      "name": "python3",
      "display_name": "Python 3"
    },
    "language_info": {
      "name": "python"
    }
  },
  "cells": [
    {
      "cell_type": "markdown",
      "metadata": {
        "id": "view-in-github",
        "colab_type": "text"
      },
      "source": [
        "<a href=\"https://colab.research.google.com/github/adrianyang2012/maze_solver/blob/main/mazething.ipynb\" target=\"_parent\"><img src=\"https://colab.research.google.com/assets/colab-badge.svg\" alt=\"Open In Colab\"/></a>"
      ]
    },
    {
      "cell_type": "markdown",
      "source": [
        "IMAGE STUFF"
      ],
      "metadata": {
        "id": "zFpgRUeOJ5Aa"
      }
    },
    {
      "cell_type": "code",
      "source": [
        "from PIL import Image\n",
        "import numpy as np\n",
        "image = Image.open(\"maze.jpg\")\n",
        "image_array = np.array(image)\n"
      ],
      "metadata": {
        "id": "7jD1Djc4_i5R"
      },
      "execution_count": null,
      "outputs": []
    },
    {
      "cell_type": "code",
      "source": [
        "image_array"
      ],
      "metadata": {
        "id": "Xj06ShRwN5Nv"
      },
      "execution_count": null,
      "outputs": []
    },
    {
      "cell_type": "code",
      "source": [
        "li = []\n",
        "\n",
        "for i in range(0,len(image_array),5):\n",
        "  new_li = []\n",
        "  for j in range(0,len(image_array[i]),5):\n",
        "    num = ' '\n",
        "    for idx in range(i,i+5):\n",
        "      for idx2 in range(j,j+5):\n",
        "        #print(type(image_array[idx][idx2])==np.uint8)\n",
        "        try:\n",
        "          if type(image_array[idx][idx2])==np.uint8:\n",
        "            if image_array[idx][idx2]<20:\n",
        "              num = 'B'\n",
        "          else:\n",
        "\n",
        "            if sum(list(image_array[idx][idx2]))/len(list(image_array[idx][idx2]))<250:\n",
        "              num = 'B'\n",
        "        except:\n",
        "          pass\n",
        "    new_li.append(num)\n",
        "  li.append(new_li[4:-4])\n",
        "li = li[4:-4]"
      ],
      "metadata": {
        "id": "EHERocU1HJom"
      },
      "execution_count": null,
      "outputs": []
    },
    {
      "cell_type": "markdown",
      "source": [
        "Calculating stuff"
      ],
      "metadata": {
        "id": "QKgdK2TbJ-EM"
      }
    },
    {
      "cell_type": "code",
      "execution_count": null,
      "metadata": {
        "id": "VfmwUNhCwLJn"
      },
      "outputs": [],
      "source": [
        "'''\n",
        "map = [['s',' ',' ',' ',' ',' ','B'],\n",
        "       [' ','B',' ',' ','B',' ',' '],\n",
        "       ['B',' ','B',' ','B',' ','B'],\n",
        "       [' ',' ',' ',' ',' ',' ',' '],\n",
        "       [' ','B',' ',' ',' ','B',' '],\n",
        "       [' ',' ','B','B','B',' ',' '],\n",
        "       [' ',' ',' ',' ','e',' ','B']]\n",
        "'''\n",
        "map = li\n",
        "map[-1][0] = 's'\n",
        "map[-1][-1] = 'e'\n",
        "\n",
        "idx = 0\n",
        "for i in range(len(map)):\n",
        "  for j in range(len(map[0])):\n",
        "    if map[i][j] == 's':\n",
        "      start = f'{i} {j}'\n",
        "for i in range(len(map)):\n",
        "  for j in range(len(map[0])):\n",
        "    if map[i][j] == 'e':\n",
        "      finish = f'{i} {j}'\n",
        "      map[i][j] = ' '\n",
        "distances = {start:[0,[],0]}\n",
        "\n",
        "while finish not in list(distances.keys()):\n",
        "  idx+=1\n",
        "  if idx>(len(map)*len(map[0])):\n",
        "    print('impossible')\n",
        "    break\n",
        "  min_distance = float('inf')\n",
        "  min_key = start\n",
        "  the_li = []\n",
        "  for key in distances.keys():\n",
        "    if distances[key][0]<min_distance and distances[key][2] == 0:\n",
        "      min_key = key\n",
        "      min_distance = distances[key][0]\n",
        "      the_li = distances[key][1]\n",
        "  x = int(min_key.split(' ')[0])\n",
        "  y = int(min_key.split(' ')[1])\n",
        "  distances[min_key][2] = 1\n",
        "  if (x+1)<(len(map)):\n",
        "\n",
        "    if map[x+1][y] == ' ':\n",
        "      if ((str(x+1))+' '+str(y)) not in list(distances.keys()):\n",
        "        distances[(str(x+1))+' '+str(y)] = [min_distance+1,the_li+[[x,y]],0]\n",
        "  if (y+1)<(len(map[0])):\n",
        "    if map[x][y+1] == ' ':\n",
        "      if ((str(x))+' '+str(y+1)) not in list(distances.keys()):\n",
        "        distances[(str(x))+' '+str(y+1)] = [min_distance+1,the_li+[[x,y]],0]\n",
        "  if y>0:\n",
        "    if map[x][y-1] == ' ':\n",
        "      if ((str(x))+' '+str(y-1)) not in list(distances.keys()):\n",
        "        distances[(str(x))+' '+str(y-1)] = [min_distance+1,the_li+[[x,y]],0]\n",
        "  if x>0:\n",
        "    if map[x-1][y] == ' ':\n",
        "      if ((str(x-1))+' '+str(y)) not in list(distances.keys()):\n",
        "        distances[(str(x-1))+' '+str(y)] = [min_distance+1,the_li+[[x,y]],0]"
      ]
    },
    {
      "cell_type": "code",
      "source": [
        "import copy\n",
        "new_map = copy.deepcopy(map)\n",
        "idx = -1\n",
        "real_idx = 0\n",
        "for val in distances[finish][1]:\n",
        "  idx+=1\n",
        "  real_idx+=1\n",
        "  if idx == 10:\n",
        "    idx = 1\n",
        "  new_map[val[0]][val[1]] = f'{idx}'\n",
        "new_map[int(finish.split(' ')[0])][int(finish.split(' ')[1])] = 'e'\n",
        "new_map[int(start.split(' ')[0])][int(start.split(' ')[1])] = 's'"
      ],
      "metadata": {
        "id": "9-NlhzA673hj"
      },
      "execution_count": null,
      "outputs": []
    },
    {
      "cell_type": "code",
      "source": [
        "def display_stuff():\n",
        "  global new_map\n",
        "  global idx\n",
        "  print('_'*(len(new_map[0])*3))\n",
        "  for thing in new_map:\n",
        "    print('|'+'  '.join(thing)+'|')\n",
        "  print('_'*(len(new_map[0])*3))\n",
        "  print(f'shortest path: {real_idx}')"
      ],
      "metadata": {
        "id": "OEUDmuP_EtDD"
      },
      "execution_count": null,
      "outputs": []
    },
    {
      "cell_type": "code",
      "source": [
        "display_stuff()"
      ],
      "metadata": {
        "id": "hfGcZL0g-2PK"
      },
      "execution_count": null,
      "outputs": []
    },
    {
      "cell_type": "code",
      "source": [],
      "metadata": {
        "id": "L_xzl4dmUJhG"
      },
      "execution_count": null,
      "outputs": []
    },
    {
      "cell_type": "code",
      "source": [
        "import matplotlib.pyplot as plt\n",
        "\n",
        "new_new_li = []\n",
        "for i in range(len(new_map)):\n",
        "  tmp_li = []\n",
        "  for j in range(len(new_map[i])):\n",
        "    if new_map[i][j] == 'B':\n",
        "      tmp_li.append([0,0,0])\n",
        "    elif new_map[i][j] == ' ':\n",
        "      tmp_li.append([255,255,255])\n",
        "    else:\n",
        "      tmp_li.append([0,255,0])\n",
        "  new_new_li.append(tmp_li)\n",
        "print(new_new_li)\n",
        "plt.imshow(new_new_li)"
      ],
      "metadata": {
        "id": "hsd5ON59LGlT"
      },
      "execution_count": null,
      "outputs": []
    },
    {
      "cell_type": "code",
      "source": [
        "map"
      ],
      "metadata": {
        "id": "fKr07VplMhpX"
      },
      "execution_count": null,
      "outputs": []
    }
  ]
}